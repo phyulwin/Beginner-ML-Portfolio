{
 "cells": [
  {
   "cell_type": "markdown",
   "id": "a0aea98e-b6fd-48ca-9524-6ffed37fd0fb",
   "metadata": {},
   "source": [
    "## Movie Recommendation System with LLaMA AI\n",
    "\n",
    "#### What is LLaMA? \n",
    "#### LLaMA, which stands for \"LLaMA: Language Model Meta AI,\" is part of Meta's ongoing research in the field of natural language processing and machine learning. \n",
    "###### Tutorial Reference: https://www.youtube.com/watch?v=epidA1fBFtI&t=52s\n",
    "###### Kaggle Dataset: https://www.kaggle.com/datasets/shivamb/netflix-shows\n",
    "\n",
    "##### Installing the model by command: ollama pull llama2"
   ]
  },
  {
   "cell_type": "code",
   "execution_count": 1,
   "id": "12eee4a8-f7f4-416a-82bd-1d3f0392bb2a",
   "metadata": {},
   "outputs": [
    {
     "data": {
      "text/html": [
       "<div>\n",
       "<style scoped>\n",
       "    .dataframe tbody tr th:only-of-type {\n",
       "        vertical-align: middle;\n",
       "    }\n",
       "\n",
       "    .dataframe tbody tr th {\n",
       "        vertical-align: top;\n",
       "    }\n",
       "\n",
       "    .dataframe thead th {\n",
       "        text-align: right;\n",
       "    }\n",
       "</style>\n",
       "<table border=\"1\" class=\"dataframe\">\n",
       "  <thead>\n",
       "    <tr style=\"text-align: right;\">\n",
       "      <th></th>\n",
       "      <th>show_id</th>\n",
       "      <th>type</th>\n",
       "      <th>title</th>\n",
       "      <th>director</th>\n",
       "      <th>cast</th>\n",
       "      <th>country</th>\n",
       "      <th>date_added</th>\n",
       "      <th>release_year</th>\n",
       "      <th>rating</th>\n",
       "      <th>duration</th>\n",
       "      <th>listed_in</th>\n",
       "      <th>description</th>\n",
       "    </tr>\n",
       "  </thead>\n",
       "  <tbody>\n",
       "    <tr>\n",
       "      <th>0</th>\n",
       "      <td>s1</td>\n",
       "      <td>Movie</td>\n",
       "      <td>Dick Johnson Is Dead</td>\n",
       "      <td>Kirsten Johnson</td>\n",
       "      <td>NaN</td>\n",
       "      <td>United States</td>\n",
       "      <td>September 25, 2021</td>\n",
       "      <td>2020</td>\n",
       "      <td>PG-13</td>\n",
       "      <td>90 min</td>\n",
       "      <td>Documentaries</td>\n",
       "      <td>As her father nears the end of his life, filmm...</td>\n",
       "    </tr>\n",
       "    <tr>\n",
       "      <th>1</th>\n",
       "      <td>s2</td>\n",
       "      <td>TV Show</td>\n",
       "      <td>Blood &amp; Water</td>\n",
       "      <td>NaN</td>\n",
       "      <td>Ama Qamata, Khosi Ngema, Gail Mabalane, Thaban...</td>\n",
       "      <td>South Africa</td>\n",
       "      <td>September 24, 2021</td>\n",
       "      <td>2021</td>\n",
       "      <td>TV-MA</td>\n",
       "      <td>2 Seasons</td>\n",
       "      <td>International TV Shows, TV Dramas, TV Mysteries</td>\n",
       "      <td>After crossing paths at a party, a Cape Town t...</td>\n",
       "    </tr>\n",
       "    <tr>\n",
       "      <th>2</th>\n",
       "      <td>s3</td>\n",
       "      <td>TV Show</td>\n",
       "      <td>Ganglands</td>\n",
       "      <td>Julien Leclercq</td>\n",
       "      <td>Sami Bouajila, Tracy Gotoas, Samuel Jouy, Nabi...</td>\n",
       "      <td>NaN</td>\n",
       "      <td>September 24, 2021</td>\n",
       "      <td>2021</td>\n",
       "      <td>TV-MA</td>\n",
       "      <td>1 Season</td>\n",
       "      <td>Crime TV Shows, International TV Shows, TV Act...</td>\n",
       "      <td>To protect his family from a powerful drug lor...</td>\n",
       "    </tr>\n",
       "    <tr>\n",
       "      <th>3</th>\n",
       "      <td>s4</td>\n",
       "      <td>TV Show</td>\n",
       "      <td>Jailbirds New Orleans</td>\n",
       "      <td>NaN</td>\n",
       "      <td>NaN</td>\n",
       "      <td>NaN</td>\n",
       "      <td>September 24, 2021</td>\n",
       "      <td>2021</td>\n",
       "      <td>TV-MA</td>\n",
       "      <td>1 Season</td>\n",
       "      <td>Docuseries, Reality TV</td>\n",
       "      <td>Feuds, flirtations and toilet talk go down amo...</td>\n",
       "    </tr>\n",
       "    <tr>\n",
       "      <th>4</th>\n",
       "      <td>s5</td>\n",
       "      <td>TV Show</td>\n",
       "      <td>Kota Factory</td>\n",
       "      <td>NaN</td>\n",
       "      <td>Mayur More, Jitendra Kumar, Ranjan Raj, Alam K...</td>\n",
       "      <td>India</td>\n",
       "      <td>September 24, 2021</td>\n",
       "      <td>2021</td>\n",
       "      <td>TV-MA</td>\n",
       "      <td>2 Seasons</td>\n",
       "      <td>International TV Shows, Romantic TV Shows, TV ...</td>\n",
       "      <td>In a city of coaching centers known to train I...</td>\n",
       "    </tr>\n",
       "  </tbody>\n",
       "</table>\n",
       "</div>"
      ],
      "text/plain": [
       "  show_id     type                  title         director  \\\n",
       "0      s1    Movie   Dick Johnson Is Dead  Kirsten Johnson   \n",
       "1      s2  TV Show          Blood & Water              NaN   \n",
       "2      s3  TV Show              Ganglands  Julien Leclercq   \n",
       "3      s4  TV Show  Jailbirds New Orleans              NaN   \n",
       "4      s5  TV Show           Kota Factory              NaN   \n",
       "\n",
       "                                                cast        country  \\\n",
       "0                                                NaN  United States   \n",
       "1  Ama Qamata, Khosi Ngema, Gail Mabalane, Thaban...   South Africa   \n",
       "2  Sami Bouajila, Tracy Gotoas, Samuel Jouy, Nabi...            NaN   \n",
       "3                                                NaN            NaN   \n",
       "4  Mayur More, Jitendra Kumar, Ranjan Raj, Alam K...          India   \n",
       "\n",
       "           date_added  release_year rating   duration  \\\n",
       "0  September 25, 2021          2020  PG-13     90 min   \n",
       "1  September 24, 2021          2021  TV-MA  2 Seasons   \n",
       "2  September 24, 2021          2021  TV-MA   1 Season   \n",
       "3  September 24, 2021          2021  TV-MA   1 Season   \n",
       "4  September 24, 2021          2021  TV-MA  2 Seasons   \n",
       "\n",
       "                                           listed_in  \\\n",
       "0                                      Documentaries   \n",
       "1    International TV Shows, TV Dramas, TV Mysteries   \n",
       "2  Crime TV Shows, International TV Shows, TV Act...   \n",
       "3                             Docuseries, Reality TV   \n",
       "4  International TV Shows, Romantic TV Shows, TV ...   \n",
       "\n",
       "                                         description  \n",
       "0  As her father nears the end of his life, filmm...  \n",
       "1  After crossing paths at a party, a Cape Town t...  \n",
       "2  To protect his family from a powerful drug lor...  \n",
       "3  Feuds, flirtations and toilet talk go down amo...  \n",
       "4  In a city of coaching centers known to train I...  "
      ]
     },
     "execution_count": 1,
     "metadata": {},
     "output_type": "execute_result"
    }
   ],
   "source": [
    "# pip3 install numpy pandas faiss-gpu requests\n",
    "import pandas as pd\n",
    "import faiss \n",
    "import requests \n",
    "import numpy as np\n",
    "\n",
    "df = pd.read_csv('netflix_titles.csv')\n",
    "df.head()"
   ]
  },
  {
   "cell_type": "code",
   "execution_count": 2,
   "id": "da97b0c5-6738-468b-abb0-b45b13fa6ccc",
   "metadata": {},
   "outputs": [],
   "source": [
    "def create_textual_representation(row):\n",
    "    textual_representation = f\"\"\"\n",
    "    Type: {row['type']},\n",
    "    Title: {row['title']}, \n",
    "    Cast: {row['cast']},\n",
    "    Released {row['release_year']},\n",
    "    Genres: {row['listed_in']},\n",
    "    Description: {row['description']},\n",
    "    \"\"\"\n",
    "    return textual_representation"
   ]
  },
  {
   "cell_type": "code",
   "execution_count": 3,
   "id": "d9942cd2-b7fd-45cf-8b27-57e8db26b355",
   "metadata": {},
   "outputs": [],
   "source": [
    "# Apply the function 'create_textual_representation' to each row of the DataFrame 'df'\n",
    "# and assign the result to a new column called 'textual_representation'.\n",
    "# The 'axis=1' argument specifies that the function should be applied to each row.\n",
    "df['textual_representation'] = df.apply(create_textual_representation, axis=1)"
   ]
  },
  {
   "cell_type": "code",
   "execution_count": 4,
   "id": "22bbd043-fc4a-4dd9-8442-fb9cb49131a6",
   "metadata": {},
   "outputs": [
    {
     "name": "stdout",
     "output_type": "stream",
     "text": [
      "\n",
      "    Type: Movie,\n",
      "    Title: Dick Johnson Is Dead, \n",
      "    Cast: nan,\n",
      "    Released 2020,\n",
      "    Genres: Documentaries,\n",
      "    Description: As her father nears the end of his life, filmmaker Kirsten Johnson stages his death in inventive and comical ways to help them both face the inevitable.,\n",
      "    \n"
     ]
    }
   ],
   "source": [
    "print(df['textual_representation'].values[0])"
   ]
  },
  {
   "cell_type": "code",
   "execution_count": 5,
   "id": "b7b39616-8cab-426a-9a49-5074c0081929",
   "metadata": {},
   "outputs": [
    {
     "name": "stdout",
     "output_type": "stream",
     "text": [
      "[[0. 0. 0. ... 0. 0. 0.]\n",
      " [0. 0. 0. ... 0. 0. 0.]\n",
      " [0. 0. 0. ... 0. 0. 0.]\n",
      " ...\n",
      " [0. 0. 0. ... 0. 0. 0.]\n",
      " [0. 0. 0. ... 0. 0. 0.]\n",
      " [0. 0. 0. ... 0. 0. 0.]]\n"
     ]
    }
   ],
   "source": [
    "dim = 4096\n",
    "index = faiss.IndexFlatL2(dim) # creates a FAISS index for storing embeddings using L2 (Euclidean) distance\n",
    "size = len(df['textual_representation'])\n",
    "X = np.zeros((size,dim), dtype='float32') # creates a NumPy array of zeros with shape (size, dim) to store the embedding\n",
    "\n",
    "print(X)"
   ]
  },
  {
   "cell_type": "code",
   "execution_count": null,
   "id": "ba7c4a6c-b241-4fe7-a156-c1c664b5b9ac",
   "metadata": {},
   "outputs": [],
   "source": [
    "try:\n",
    "    for i, representation in enumerate(df['textual_representation']):\n",
    "        if (i % 200 == 0):\n",
    "            # prints progress every 200 instances\n",
    "            print(f'Processed {str(i)} instances')\n",
    "        # sends text data to API to get embeddings and stores them in array then add to index\n",
    "        res = requests.post('http://localhost:8888/api/embeddings', json = {'model':'llama2', 'prompt': representation})\n",
    "        embedding = res.json()['embedding']\n",
    "        X[i] = np.array(embedding)\n",
    "    \n",
    "    index.add(X)\n",
    "except Exception as e:\n",
    "    print(e)\n",
    "\n",
    "print('Processing completed')"
   ]
  },
  {
   "cell_type": "code",
   "execution_count": null,
   "id": "6e5dc7bc-44e8-4f57-ac4a-0cede5b8c07e",
   "metadata": {},
   "outputs": [],
   "source": [
    "faiss.write_index(index, 'index') # saves FAISS index to file and store index on disk "
   ]
  },
  {
   "cell_type": "code",
   "execution_count": null,
   "id": "88ad5963-f33f-4e91-9d04-cf20d24c9064",
   "metadata": {},
   "outputs": [],
   "source": [
    "index = faiss.read_index('index') # loads index from file named 'index'"
   ]
  },
  {
   "cell_type": "code",
   "execution_count": null,
   "id": "c4617c85-8014-4754-93fd-8605200238d2",
   "metadata": {},
   "outputs": [],
   "source": [
    "keyword = 'Shutter'\n",
    "# Filters the DataFrame df to include only rows where the 'title' column contains the keyword\n",
    "df[df['title'].str.contains(keyword)]\n",
    "\n",
    "show_id = 1200 # Selects the row at index 1200 from the filtered DataFrame\n",
    "fav_movie = df.iloc[show_id]\n",
    "print(fav_movie)\n",
    "\n",
    "# Sends a POST request to a local API and get embeddings for textual representation\n",
    "response = requests.post('http://localhost:8888/api/embeddings', json = {'model':'llama2', 'prompt': fav_movie['textual_representation']})\n",
    "# Converts the response JSON containing the embedding into a NumPy array of type float32\n",
    "embedding = np.array(res.json()['embedding'], dtype='float32')"
   ]
  },
  {
   "cell_type": "code",
   "execution_count": null,
   "id": "a70b86ae-ae45-4d16-a162-ee05d56ffd4c",
   "metadata": {},
   "outputs": [],
   "source": [
    "# Searches the FAISS index for the top 5 closest matches to the given embedding. \n",
    "# D contains the distances, and I contains the indices of the top matches.\n",
    "D, I = index.search(embedding, 5) # get top five matching\n",
    "print(I)\n",
    "\n",
    "# Retrieves the textual representations corresponding to the top match indices.\n",
    "best_matches = np.array(df['textual_representation'])[I.flatten()]\n",
    "\n",
    "for match in best_matches:\n",
    "    print(f'MATCH:\\n{match}\\n')"
   ]
  }
 ],
 "metadata": {
  "kernelspec": {
   "display_name": "Python 3 (ipykernel)",
   "language": "python",
   "name": "python3"
  },
  "language_info": {
   "codemirror_mode": {
    "name": "ipython",
    "version": 3
   },
   "file_extension": ".py",
   "mimetype": "text/x-python",
   "name": "python",
   "nbconvert_exporter": "python",
   "pygments_lexer": "ipython3",
   "version": "3.12.8"
  }
 },
 "nbformat": 4,
 "nbformat_minor": 5
}
