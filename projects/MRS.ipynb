{
 "cells": [
  {
   "cell_type": "markdown",
   "id": "7a402a54-9c60-49b1-8e36-622a46b49904",
   "metadata": {},
   "source": [
    "## Movie Recommendation System with LLaMA AI\n",
    "\n",
    "### What is LLaMA? LLaMA, which stands for \"LLaMA: Language Model Meta AI,\" is part of Meta's ongoing research in the field of natural language processing and machine learning. \n",
    "### Tutorial Reference: https://www.youtube.com/watch?v=epidA1fBFtI&t=52s"
   ]
  },
  {
   "cell_type": "code",
   "execution_count": null,
   "id": "90f89d82-39a6-49a5-8a09-9aa7eee1e076",
   "metadata": {},
   "outputs": [],
   "source": []
  }
 ],
 "metadata": {
  "kernelspec": {
   "display_name": "Python 3 (ipykernel)",
   "language": "python",
   "name": "python3"
  },
  "language_info": {
   "codemirror_mode": {
    "name": "ipython",
    "version": 3
   },
   "file_extension": ".py",
   "mimetype": "text/x-python",
   "name": "python",
   "nbconvert_exporter": "python",
   "pygments_lexer": "ipython3",
   "version": "3.12.8"
  }
 },
 "nbformat": 4,
 "nbformat_minor": 5
}
