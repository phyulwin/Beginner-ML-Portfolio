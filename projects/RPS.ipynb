{
 "cells": [
  {
   "cell_type": "markdown",
   "id": "33ffb4d2-a06a-4027-a201-8beb90ea3d46",
   "metadata": {},
   "source": [
    "# Rock Paper Scissors Game Predictor with 1D Convolutional Neural Networks"
   ]
  },
  {
   "cell_type": "markdown",
   "id": "8790c7b5-8dba-48c9-ad8d-fd547d3dd4a3",
   "metadata": {},
   "source": [
    "##### A 1D-CNN applies convolutional operations along one dimension (e.g., time or sequence data). It's ideal for finding patterns in sequential data, like a series of moves in Rock-Paper-Scissors."
   ]
  },
  {
   "cell_type": "code",
   "execution_count": 1,
   "id": "580993d0-aa86-4985-817a-9b0a6f565184",
   "metadata": {},
   "outputs": [],
   "source": [
    "# import dependencies\n",
    "import numpy as np\n",
    "from tensorflow.keras.models import Sequential\n",
    "from tensorflow.keras.layers import Conv1D, Dense, Flatten, Dropout\n",
    "from tensorflow.keras.utils import to_categorical\n",
    "from sklearn.model_selection import train_test_split"
   ]
  },
  {
   "cell_type": "markdown",
   "id": "1ea0f917-2219-49d9-8b05-3f4ea1bc4100",
   "metadata": {},
   "source": [
    "## Create data with random sequences for the model to learn\n",
    "\n",
    "#### Rock = 0, Paper = 1, Scissors = 2"
   ]
  },
  {
   "cell_type": "code",
   "execution_count": 2,
   "id": "4c7e803d-bd4d-4cea-9420-b8573807fb87",
   "metadata": {},
   "outputs": [],
   "source": [
    "SAMPLE_SIZE = 1000\n",
    "\n",
    "def generate_data(num_samples=SAMPLE_SIZE, seq_length=5):\n",
    "    # Initialize empty lists to store input sequences (X) and next moves (y)\n",
    "    X, y = [], [] \n",
    "    \n",
    "    for _ in range(num_samples):\n",
    "        sequence = np.random.choice([0, 1, 2], size=seq_length)  # Generate a random sequence of moves\n",
    "        next_move = (sequence[-1] + 1) % 3  # Calculate the next move based on the rule: \"Choose the move that beats the last one\"\n",
    "        \n",
    "        X.append(sequence) # Append the sequence to X (input data)\n",
    "        y.append(next_move) # Append the next move to y (output data)\n",
    "        \n",
    "    return np.array(X), np.array(y) # Convert X and y to NumPy arrays"
   ]
  },
  {
   "cell_type": "code",
   "execution_count": 3,
   "id": "bdabe9a9-3a77-49ca-9524-e2a7dcbf2ede",
   "metadata": {},
   "outputs": [],
   "source": [
    "X, y = generate_data()\n",
    "y = to_categorical(y, num_classes=3)  # One-hot encode the output\n",
    "X = X.reshape((X.shape[0], X.shape[1], 1))  # Reshape for 1D-CNN input\n",
    "\n",
    "# Split into training and testing sets\n",
    "# Train size = 70% and Test size = 30% \n",
    "# Random state can be any constant number; let it be 50 this time\n",
    "X_train, X_test, y_train, y_test = train_test_split(X, y, test_size=0.3, random_state=50)"
   ]
  },
  {
   "cell_type": "markdown",
   "id": "21ae126d-6564-44db-8343-55ddd348839b",
   "metadata": {},
   "source": [
    "## Build the model"
   ]
  },
  {
   "cell_type": "code",
   "execution_count": null,
   "id": "b0ab2f46-e55b-4bd2-927a-7529289595f3",
   "metadata": {},
   "outputs": [],
   "source": [
    "model = Sequential([\n",
    "    # first convolutional layer\n",
    "    Conv1D(64, kernel_size=2, activation='relu', input_shape=(X.shape[1], 1)),\n",
    "    Dropout(0.2),\n",
    "    \n",
    "    # second convolutional layer\n",
    "    Conv1D(128, kernel_size=2, activation='relu'),\n",
    "    Dropout(0.2),\n",
    "    \n",
    "    # flatten layer\n",
    "    Flatten(),\n",
    "    \n",
    "    # dense layer\n",
    "    Dense(64, activation='relu'),\n",
    "    Dense(3, activation='softmax')  # 3 classes: Rock, Paper, Scissors\n",
    "])"
   ]
  },
  {
   "cell_type": "markdown",
   "id": "6ac4c1b6-9e72-44ea-aefa-cac36191a046",
   "metadata": {},
   "source": [
    "### Model V2: Recurrent Neural Network (RNN)\n",
    "\n",
    "###### Ignore the code below for 1D CNN"
   ]
  },
  {
   "cell_type": "code",
   "execution_count": null,
   "id": "b29a9ea3-a832-4f48-819b-2688079595d4",
   "metadata": {},
   "outputs": [],
   "source": [
    "model = Sequential([\n",
    "    SimpleRNN(64, activation='relu', input_shape=(X.shape[1], 1)),  # RNN layer\n",
    "    Dense(32, activation='relu'),  # Fully connected layer\n",
    "    Dense(3, activation='softmax')  # Output layer (3 classes: Rock, Paper, Scissors)\n",
    "])"
   ]
  },
  {
   "cell_type": "markdown",
   "id": "fe09eea7-60fe-4e4e-a54f-8f5725b9eca8",
   "metadata": {},
   "source": [
    "## Training the model"
   ]
  },
  {
   "cell_type": "code",
   "execution_count": 5,
   "id": "d3f53f53-c554-4f45-91f4-159fc318d8a2",
   "metadata": {},
   "outputs": [
    {
     "name": "stdout",
     "output_type": "stream",
     "text": [
      "Epoch 1/20\n",
      "\u001b[1m22/22\u001b[0m \u001b[32m━━━━━━━━━━━━━━━━━━━━\u001b[0m\u001b[37m\u001b[0m \u001b[1m3s\u001b[0m 40ms/step - accuracy: 0.3990 - loss: 1.0779 - val_accuracy: 0.6933 - val_loss: 0.9297\n",
      "Epoch 2/20\n",
      "\u001b[1m22/22\u001b[0m \u001b[32m━━━━━━━━━━━━━━━━━━━━\u001b[0m\u001b[37m\u001b[0m \u001b[1m0s\u001b[0m 14ms/step - accuracy: 0.7105 - loss: 0.8581 - val_accuracy: 0.9200 - val_loss: 0.5050\n",
      "Epoch 3/20\n",
      "\u001b[1m22/22\u001b[0m \u001b[32m━━━━━━━━━━━━━━━━━━━━\u001b[0m\u001b[37m\u001b[0m \u001b[1m0s\u001b[0m 13ms/step - accuracy: 0.8979 - loss: 0.4378 - val_accuracy: 0.9367 - val_loss: 0.1896\n",
      "Epoch 4/20\n",
      "\u001b[1m22/22\u001b[0m \u001b[32m━━━━━━━━━━━━━━━━━━━━\u001b[0m\u001b[37m\u001b[0m \u001b[1m0s\u001b[0m 12ms/step - accuracy: 0.9355 - loss: 0.1981 - val_accuracy: 0.9600 - val_loss: 0.0936\n",
      "Epoch 5/20\n",
      "\u001b[1m22/22\u001b[0m \u001b[32m━━━━━━━━━━━━━━━━━━━━\u001b[0m\u001b[37m\u001b[0m \u001b[1m0s\u001b[0m 11ms/step - accuracy: 0.9491 - loss: 0.1206 - val_accuracy: 0.9833 - val_loss: 0.0644\n",
      "Epoch 6/20\n",
      "\u001b[1m22/22\u001b[0m \u001b[32m━━━━━━━━━━━━━━━━━━━━\u001b[0m\u001b[37m\u001b[0m \u001b[1m0s\u001b[0m 11ms/step - accuracy: 0.9734 - loss: 0.0806 - val_accuracy: 1.0000 - val_loss: 0.0261\n",
      "Epoch 7/20\n",
      "\u001b[1m22/22\u001b[0m \u001b[32m━━━━━━━━━━━━━━━━━━━━\u001b[0m\u001b[37m\u001b[0m \u001b[1m0s\u001b[0m 18ms/step - accuracy: 0.9902 - loss: 0.0566 - val_accuracy: 1.0000 - val_loss: 0.0158\n",
      "Epoch 8/20\n",
      "\u001b[1m22/22\u001b[0m \u001b[32m━━━━━━━━━━━━━━━━━━━━\u001b[0m\u001b[37m\u001b[0m \u001b[1m0s\u001b[0m 12ms/step - accuracy: 0.9938 - loss: 0.0377 - val_accuracy: 1.0000 - val_loss: 0.0078\n",
      "Epoch 9/20\n",
      "\u001b[1m22/22\u001b[0m \u001b[32m━━━━━━━━━━━━━━━━━━━━\u001b[0m\u001b[37m\u001b[0m \u001b[1m0s\u001b[0m 17ms/step - accuracy: 0.9961 - loss: 0.0236 - val_accuracy: 1.0000 - val_loss: 0.0060\n",
      "Epoch 10/20\n",
      "\u001b[1m22/22\u001b[0m \u001b[32m━━━━━━━━━━━━━━━━━━━━\u001b[0m\u001b[37m\u001b[0m \u001b[1m1s\u001b[0m 11ms/step - accuracy: 0.9987 - loss: 0.0165 - val_accuracy: 1.0000 - val_loss: 0.0039\n",
      "Epoch 11/20\n",
      "\u001b[1m22/22\u001b[0m \u001b[32m━━━━━━━━━━━━━━━━━━━━\u001b[0m\u001b[37m\u001b[0m \u001b[1m0s\u001b[0m 12ms/step - accuracy: 0.9996 - loss: 0.0158 - val_accuracy: 1.0000 - val_loss: 0.0039\n",
      "Epoch 12/20\n",
      "\u001b[1m22/22\u001b[0m \u001b[32m━━━━━━━━━━━━━━━━━━━━\u001b[0m\u001b[37m\u001b[0m \u001b[1m0s\u001b[0m 12ms/step - accuracy: 1.0000 - loss: 0.0112 - val_accuracy: 1.0000 - val_loss: 0.0013\n",
      "Epoch 13/20\n",
      "\u001b[1m22/22\u001b[0m \u001b[32m━━━━━━━━━━━━━━━━━━━━\u001b[0m\u001b[37m\u001b[0m \u001b[1m0s\u001b[0m 11ms/step - accuracy: 0.9964 - loss: 0.0108 - val_accuracy: 1.0000 - val_loss: 0.0012\n",
      "Epoch 14/20\n",
      "\u001b[1m22/22\u001b[0m \u001b[32m━━━━━━━━━━━━━━━━━━━━\u001b[0m\u001b[37m\u001b[0m \u001b[1m0s\u001b[0m 14ms/step - accuracy: 0.9965 - loss: 0.0098 - val_accuracy: 1.0000 - val_loss: 8.3500e-04\n",
      "Epoch 15/20\n",
      "\u001b[1m22/22\u001b[0m \u001b[32m━━━━━━━━━━━━━━━━━━━━\u001b[0m\u001b[37m\u001b[0m \u001b[1m0s\u001b[0m 12ms/step - accuracy: 1.0000 - loss: 0.0039 - val_accuracy: 1.0000 - val_loss: 0.0010\n",
      "Epoch 16/20\n",
      "\u001b[1m22/22\u001b[0m \u001b[32m━━━━━━━━━━━━━━━━━━━━\u001b[0m\u001b[37m\u001b[0m \u001b[1m0s\u001b[0m 13ms/step - accuracy: 0.9997 - loss: 0.0047 - val_accuracy: 1.0000 - val_loss: 5.6444e-04\n",
      "Epoch 17/20\n",
      "\u001b[1m22/22\u001b[0m \u001b[32m━━━━━━━━━━━━━━━━━━━━\u001b[0m\u001b[37m\u001b[0m \u001b[1m0s\u001b[0m 14ms/step - accuracy: 1.0000 - loss: 0.0050 - val_accuracy: 1.0000 - val_loss: 9.1587e-04\n",
      "Epoch 18/20\n",
      "\u001b[1m22/22\u001b[0m \u001b[32m━━━━━━━━━━━━━━━━━━━━\u001b[0m\u001b[37m\u001b[0m \u001b[1m0s\u001b[0m 19ms/step - accuracy: 0.9947 - loss: 0.0080 - val_accuracy: 1.0000 - val_loss: 5.0957e-04\n",
      "Epoch 19/20\n",
      "\u001b[1m22/22\u001b[0m \u001b[32m━━━━━━━━━━━━━━━━━━━━\u001b[0m\u001b[37m\u001b[0m \u001b[1m0s\u001b[0m 12ms/step - accuracy: 0.9993 - loss: 0.0045 - val_accuracy: 1.0000 - val_loss: 6.7785e-04\n",
      "Epoch 20/20\n",
      "\u001b[1m22/22\u001b[0m \u001b[32m━━━━━━━━━━━━━━━━━━━━\u001b[0m\u001b[37m\u001b[0m \u001b[1m0s\u001b[0m 12ms/step - accuracy: 0.9956 - loss: 0.0080 - val_accuracy: 1.0000 - val_loss: 3.4139e-04\n"
     ]
    },
    {
     "data": {
      "text/plain": [
       "<keras.src.callbacks.history.History at 0x1e735709a60>"
      ]
     },
     "execution_count": 5,
     "metadata": {},
     "output_type": "execute_result"
    }
   ],
   "source": [
    "# Compile the model\n",
    "# Loss function for multi-class classification tasks\n",
    "# Tracks the accuracy of predictions during training\n",
    "model.compile(optimizer='adam', loss='categorical_crossentropy', metrics=['accuracy']) \n",
    "\n",
    "model.fit(X_train, y_train, epochs=20, batch_size=32, validation_data=(X_test, y_test))\n",
    "# validation_data=(X_test, y_test): Evaluates performance on the test set after each epoch to track progress."
   ]
  },
  {
   "cell_type": "markdown",
   "id": "99ba2b31-d192-4d86-b090-b06c6159b060",
   "metadata": {},
   "source": [
    "## Testing the model"
   ]
  },
  {
   "cell_type": "code",
   "execution_count": 6,
   "id": "3d55fd43-277b-4975-b31d-a02775e159b3",
   "metadata": {},
   "outputs": [],
   "source": [
    "# generates a random sequence of rock, paper, scissors for testing the model\n",
    "def generate_test_data(sequence_length):\n",
    "    # Generate a random sequence of moves (0, 1, or 2)\n",
    "    sequence = np.random.choice([0, 1, 2], size=sequence_length)\n",
    "    \n",
    "    # Convert numbers to Rock, Paper, Scissors\n",
    "    moves = []\n",
    "    \n",
    "    for move in sequence:\n",
    "        if move == 0:\n",
    "            moves.append(\"Rock\")\n",
    "        elif move == 1:\n",
    "            moves.append(\"Paper\")\n",
    "        else:\n",
    "            moves.append(\"Scissors\")\n",
    "            \n",
    "    # Format the sequence for the model\n",
    "    sequence = sequence.reshape(1, sequence_length, 1)\n",
    "    \n",
    "    # Print the sequence in a readable format\n",
    "    print(f\"The new test sequence is: {moves}\")\n",
    "    \n",
    "    return sequence"
   ]
  },
  {
   "cell_type": "code",
   "execution_count": 7,
   "id": "0f0db164-0118-41d4-b40b-58c66c0322a9",
   "metadata": {},
   "outputs": [
    {
     "name": "stdout",
     "output_type": "stream",
     "text": [
      "The new test sequence is: ['Rock', 'Paper', 'Scissors', 'Scissors', 'Paper']\n",
      "\u001b[1m1/1\u001b[0m \u001b[32m━━━━━━━━━━━━━━━━━━━━\u001b[0m\u001b[37m\u001b[0m \u001b[1m0s\u001b[0m 170ms/step\n"
     ]
    }
   ],
   "source": [
    "test_sequence = generate_test_data(sequence_length=5)\n",
    "\n",
    "# Ensures the test sequence is correctly reshaped for the model's input format \n",
    "test_sequence = test_sequence.reshape((1, test_sequence.shape[1], 1))\n",
    "\n",
    "# Feeds the test sequence into the model to predict the next move. \n",
    "predicted = model.predict(test_sequence)"
   ]
  },
  {
   "cell_type": "markdown",
   "id": "4cb53980-3508-44d4-939c-3b99340082d9",
   "metadata": {},
   "source": [
    "### The predicted is an output of the model which is possibilities of each class.\n",
    "### For example: it could be [0.1, 0.7, 02] for Rock = 10%, Paper = 70%, and Scissors = 20%. \n",
    "### np.argmax will choose the max value out of them, which is 0.7 (Paper) in this case."
   ]
  },
  {
   "cell_type": "code",
   "execution_count": 8,
   "id": "e5ef853d-099e-4451-8e13-49ac88634fbe",
   "metadata": {},
   "outputs": [
    {
     "name": "stdout",
     "output_type": "stream",
     "text": [
      "Predicted Move: Scissors\n"
     ]
    }
   ],
   "source": [
    "predicted_move = np.argmax(predicted)\n",
    "\n",
    "print(f\"Predicted Move: {['Rock', 'Paper', 'Scissors'][predicted_move]}\")"
   ]
  }
 ],
 "metadata": {
  "kernelspec": {
   "display_name": "Python 3 (ipykernel)",
   "language": "python",
   "name": "python3"
  },
  "language_info": {
   "codemirror_mode": {
    "name": "ipython",
    "version": 3
   },
   "file_extension": ".py",
   "mimetype": "text/x-python",
   "name": "python",
   "nbconvert_exporter": "python",
   "pygments_lexer": "ipython3",
   "version": "3.12.8"
  }
 },
 "nbformat": 4,
 "nbformat_minor": 5
}
