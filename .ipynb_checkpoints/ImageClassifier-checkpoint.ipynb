{
 "cells": [
  {
   "cell_type": "markdown",
   "id": "ddcf3f72-bfa2-494d-8b62-67d5423dff5b",
   "metadata": {},
   "source": [
    "# Image Classifier with Python\n",
    "##### Tutorial Reference: https://youtu.be/jztwpsIzEGc?si=fKvssCARz-9bDJeF"
   ]
  },
  {
   "cell_type": "markdown",
   "id": "086b46c9-3413-4735-9713-5f1108bd1b4a",
   "metadata": {},
   "source": [
    "### Setup and loading data"
   ]
  },
  {
   "cell_type": "code",
   "execution_count": null,
   "id": "566d5973-0592-4ec0-acc6-c49caf27a5f0",
   "metadata": {},
   "outputs": [],
   "source": [
    "!pip install tensorflow opencv-python matplotlib\n",
    "# ignore tensorflow-gpu\n",
    "!pip list"
   ]
  },
  {
   "cell_type": "code",
   "execution_count": 4,
   "id": "212e9483-8e06-4a02-90b6-185b23953df8",
   "metadata": {},
   "outputs": [],
   "source": [
    "import os\n",
    "import tensorflow as tf"
   ]
  },
  {
   "cell_type": "code",
   "execution_count": null,
   "id": "8ba1f6e8-68fe-4953-92af-13216aef4a4e",
   "metadata": {},
   "outputs": [],
   "source": [
    "# limit tensorflow use of gpu\n",
    "gpus = tf.config.experimental.list_physical_devices('GPU') # lists all the available GPU devices on your machine\n",
    "for gpu in gpus:\n",
    "    # TensorFlow will only allocate as much GPU memory as needed, rather than reserving all the GPU memory at once\n",
    "    tf.config.experimental.set_memory_growth(gpu, True)"
   ]
  }
 ],
 "metadata": {
  "kernelspec": {
   "display_name": "Python 3 (ipykernel)",
   "language": "python",
   "name": "python3"
  },
  "language_info": {
   "codemirror_mode": {
    "name": "ipython",
    "version": 3
   },
   "file_extension": ".py",
   "mimetype": "text/x-python",
   "name": "python",
   "nbconvert_exporter": "python",
   "pygments_lexer": "ipython3",
   "version": "3.12.8"
  }
 },
 "nbformat": 4,
 "nbformat_minor": 5
}
